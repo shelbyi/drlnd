{
 "cells": [
  {
   "cell_type": "markdown",
   "metadata": {},
   "source": [
    "# Project 3: Tennis\n",
    "\n",
    "---\n",
    "\n",
    "In this notebook, I am going to run a model that was pretrained with the [tennis](tennis.ipynb) notebook.\n",
    "\n",
    "## 1. Start the Environment\n",
    "\n",
    "We begin by importing some necessary packages."
   ]
  },
  {
   "cell_type": "code",
   "execution_count": 1,
   "metadata": {},
   "outputs": [],
   "source": [
    "from unityagents import UnityEnvironment\n",
    "from modules.ddpg_agent import Agent\n",
    "\n",
    "import numpy as np"
   ]
  },
  {
   "cell_type": "code",
   "execution_count": 2,
   "metadata": {},
   "outputs": [
    {
     "name": "stderr",
     "output_type": "stream",
     "text": [
      "INFO:unityagents:\n",
      "'Academy' started successfully!\n",
      "Unity Academy name: Academy\n",
      "        Number of Brains: 1\n",
      "        Number of External Brains : 1\n",
      "        Lesson number : 0\n",
      "        Reset Parameters :\n",
      "\t\t\n",
      "Unity brain name: TennisBrain\n",
      "        Number of Visual Observations (per agent): 0\n",
      "        Vector Observation space type: continuous\n",
      "        Vector Observation space size (per agent): 8\n",
      "        Number of stacked Vector Observation: 3\n",
      "        Vector Action space type: continuous\n",
      "        Vector Action space size (per agent): 2\n",
      "        Vector Action descriptions: , \n"
     ]
    }
   ],
   "source": [
    "env = UnityEnvironment(file_name=\"./Tennis_Linux/Tennis.x86_64\")"
   ]
  },
  {
   "cell_type": "markdown",
   "metadata": {},
   "source": [
    "We retrieve some information like number of actions and states from the environment."
   ]
  },
  {
   "cell_type": "code",
   "execution_count": 3,
   "metadata": {},
   "outputs": [],
   "source": [
    "brain_name = env.brain_names[0]\n",
    "brain = env.brains[brain_name]\n",
    "\n",
    "env_info = env.reset(train_mode=True)[brain_name]\n",
    "state = env_info.vector_observations[0]\n",
    "\n",
    "numberOfActions = brain.vector_action_space_size\n",
    "numberOfStates = len(state)\n",
    "num_agents = len(env_info.agents)"
   ]
  },
  {
   "cell_type": "markdown",
   "metadata": {},
   "source": [
    "## 2. Define the main ddpg function and start some episodes"
   ]
  },
  {
   "cell_type": "code",
   "execution_count": 4,
   "metadata": {},
   "outputs": [],
   "source": [
    "def ddpg_play(agent, n_episodes, max_t):\n",
    "    print(\"###############################\")\n",
    "    print(\"Running \" + str(n_episodes) + \" episodes now: \")\n",
    "\n",
    "    for i_episode in range(1, n_episodes+1):\n",
    "        print(\"-------------------------------\")\n",
    "        print(\"Episode \" + str(i_episode))\n",
    "        env_info = env.reset(train_mode=False)[brain_name]  # reset the environment\n",
    "        scores = np.zeros(num_agents)                       # initialize the score (for each agent)\n",
    "        agent.reset()                                       # reset the agent\n",
    "        \n",
    "        for t in range(max_t):\n",
    "            states = env_info.vector_observations           # get the current state (for each agent)\n",
    "            \n",
    "            actions = agent.act(states)                     # select an action (for each agent)\n",
    "            env_info = env.step(actions)[brain_name]        # send the actions to the environment\n",
    "            \n",
    "            rewards = env_info.rewards                      # get the reward\n",
    "            scores += rewards\n",
    "            print(\"\\rScore: \" + str(scores), end=\"\")\n",
    "            \n",
    "            dones = env_info.local_done                      # see if episode has finished\n",
    "            if np.any(dones):                               # exit loop if episode finished\n",
    "                break\n",
    "        print(\"\\nFinal score: \" + str(i_episode) + \": \" + str(np.max(scores)))\n",
    "        print()"
   ]
  },
  {
   "cell_type": "code",
   "execution_count": 5,
   "metadata": {},
   "outputs": [
    {
     "name": "stdout",
     "output_type": "stream",
     "text": [
      "cuda:0\n",
      "###############################\n",
      "Running 2 episodes now: \n",
      "-------------------------------\n",
      "Episode 1\n",
      "Score: [2.60000004 2.60000004]\n",
      "Final score: 1: 2.600000038743019\n",
      "\n",
      "-------------------------------\n",
      "Episode 2\n",
      "Score: [2.60000004 2.60000004]\n",
      "Final score: 2: 2.600000038743019\n",
      "\n"
     ]
    }
   ],
   "source": [
    "agent_play = Agent.for_playing(num_agents, numberOfStates, numberOfActions, \"./models/ddpg_\")\n",
    "ddpg_play(agent_play, 2, 1000)"
   ]
  },
  {
   "cell_type": "code",
   "execution_count": 6,
   "metadata": {},
   "outputs": [],
   "source": [
    "env.close()"
   ]
  },
  {
   "cell_type": "code",
   "execution_count": null,
   "metadata": {},
   "outputs": [],
   "source": []
  }
 ],
 "metadata": {
  "kernelspec": {
   "display_name": "drlnd",
   "language": "python",
   "name": "drlnd"
  },
  "language_info": {
   "codemirror_mode": {
    "name": "ipython",
    "version": 3
   },
   "file_extension": ".py",
   "mimetype": "text/x-python",
   "name": "python",
   "nbconvert_exporter": "python",
   "pygments_lexer": "ipython3",
   "version": "3.6.6"
  }
 },
 "nbformat": 4,
 "nbformat_minor": 2
}
