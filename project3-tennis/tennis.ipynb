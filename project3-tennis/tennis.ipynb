{
 "cells": [
  {
   "cell_type": "markdown",
   "metadata": {},
   "source": [
    "# Project 3: Tennis\n",
    "\n",
    "---\n",
    "\n",
    "In this notebook, I am going to implement the tennis agent of the third project of the [Deep Reinforcement Learning Nanodegree](https://www.udacity.com/course/deep-reinforcement-learning-nanodegree--nd893). \n",
    "\n",
    "This notebook is successfully solving the project via a two agent DDPG algorithm that share a common replay buffer but sampling individually from it. For more details also have a look at the [Readme](./README.md) of the project.\n",
    "\n",
    "After training the agent, the neural network models for the actor and critic of each agent (as well as the replay buffer), will be saved to disk. You can use notebook [tennis-play](./tennis-play.ipynb) to load the neural network models and to see the agent in action.\n",
    "\n",
    "## 1. Start the Environment\n",
    "\n",
    "We begin by importing some necessary packages."
   ]
  },
  {
   "cell_type": "code",
   "execution_count": 1,
   "metadata": {},
   "outputs": [],
   "source": [
    "from unityagents import UnityEnvironment\n",
    "from collections import deque\n",
    "\n",
    "import numpy as np\n",
    "\n",
    "import torch\n",
    "import torch.nn.functional as F\n",
    "\n",
    "import matplotlib.patches as mpatches\n",
    "import matplotlib.pyplot as plt\n",
    "\n",
    "from modules.ddpg_agent import Agent"
   ]
  },
  {
   "cell_type": "markdown",
   "metadata": {},
   "source": [
    "Next, we will start the environment!  **_Before running the code cell below_**, change the `file_name` parameter to match the location of the Unity environment that you downloaded. You can decide between headless and visual option. However, the headless option is a lot faster and at the end, the weights of the neural network will be stored to disk. You can use the trained weights in notebook [tennis-play](./tennis-play.ipynb), there we will just run the agent in a visual environment and you can see your agent in action.\n",
    "\n",
    "- **Linux** (x86_64): `\"./Tennis_Linux/Tennis.x86_64\"`\n",
    "- **Linux** (x86_64, headless): `\"./Tennis_Linux_NoVis/Tennis.x86_64\"`"
   ]
  },
  {
   "cell_type": "code",
   "execution_count": 2,
   "metadata": {},
   "outputs": [
    {
     "name": "stderr",
     "output_type": "stream",
     "text": [
      "INFO:unityagents:\n",
      "'Academy' started successfully!\n",
      "Unity Academy name: Academy\n",
      "        Number of Brains: 1\n",
      "        Number of External Brains : 1\n",
      "        Lesson number : 0\n",
      "        Reset Parameters :\n",
      "\t\t\n",
      "Unity brain name: TennisBrain\n",
      "        Number of Visual Observations (per agent): 0\n",
      "        Vector Observation space type: continuous\n",
      "        Vector Observation space size (per agent): 8\n",
      "        Number of stacked Vector Observation: 3\n",
      "        Vector Action space type: continuous\n",
      "        Vector Action space size (per agent): 2\n",
      "        Vector Action descriptions: , \n"
     ]
    }
   ],
   "source": [
    "env = UnityEnvironment(file_name='./Tennis_Linux_NoVis/Tennis.x86_64')"
   ]
  },
  {
   "cell_type": "markdown",
   "metadata": {},
   "source": [
    "Environments contain **_brains_** which are responsible for deciding the actions of their associated agents. Here we check for the first brain available, and set it as the default brain we will be controlling from Python."
   ]
  },
  {
   "cell_type": "code",
   "execution_count": 3,
   "metadata": {},
   "outputs": [],
   "source": [
    "# get the default brain\n",
    "brain_name = env.brain_names[0]\n",
    "brain = env.brains[brain_name]"
   ]
  },
  {
   "cell_type": "markdown",
   "metadata": {},
   "source": [
    "## 2. Examine the State and Action Spaces\n",
    "\n",
    "For this notebook, we decided to give each agent its own learning capabilites. But they do share the same replay buffer. The agents goal is to control a racket to bounce a ball over a net. At each time step the agents have to choose the correct continuous action that consists of a vector of two entries. They correspond to the movement toward or away from the net, and jumping. Each entry in the vector should be a number between -1 and +1:\n",
    "- `x1` (-1; +1)\n",
    "- `x2` (-1; +1)\n",
    "\n",
    "The state space has `8` dimensions and corresponds to the position and velocity of the ball and racket. A reward of `+0.1` is provided for hitting the ball over the net. A negative reward of `-0.01` is provided if the ball hit the ground or is out of bounds.\n",
    "\n",
    "Run the code cell below to print some information about the environment."
   ]
  },
  {
   "cell_type": "code",
   "execution_count": 4,
   "metadata": {},
   "outputs": [
    {
     "name": "stdout",
     "output_type": "stream",
     "text": [
      "Number of agents: 2\n",
      "Size of each action: 2\n",
      "There are 2 agents. Each observes a state with length: 24\n",
      "The state for the first agent looks like: [ 0.          0.          0.          0.          0.          0.\n",
      "  0.          0.          0.          0.          0.          0.\n",
      "  0.          0.          0.          0.         -6.65278625 -1.5\n",
      " -0.          0.          6.83172083  6.         -0.          0.        ]\n"
     ]
    }
   ],
   "source": [
    "# reset the environment\n",
    "env_info = env.reset(train_mode=True)[brain_name]\n",
    "\n",
    "# number of agents \n",
    "num_agents = len(env_info.agents)\n",
    "print('Number of agents:', num_agents)\n",
    "\n",
    "# size of each action\n",
    "action_size = brain.vector_action_space_size\n",
    "print('Size of each action:', action_size)\n",
    "\n",
    "# examine the state space \n",
    "states = env_info.vector_observations\n",
    "state_size = states.shape[1]\n",
    "print('There are {} agents. Each observes a state with length: {}'.format(states.shape[0], state_size))\n",
    "print('The state for the first agent looks like:', states[0])\n",
    "\n",
    "numberOfActions = action_size\n",
    "numberOfStates = state_size"
   ]
  },
  {
   "cell_type": "markdown",
   "metadata": {},
   "source": [
    "## 3. Define the main ddpg function and some helper functions"
   ]
  },
  {
   "cell_type": "code",
   "execution_count": 5,
   "metadata": {},
   "outputs": [],
   "source": [
    "def ddpg(agents, n_episodes, max_t):\n",
    "    environment_solved = False\n",
    "    \n",
    "    all_scores = []                                         # list the max score after each episode\n",
    "    scores_window = deque(maxlen=100)  # last 100 scores\n",
    "    \n",
    "    for i_episode in range(1, n_episodes+1):\n",
    "        env_info = env.reset(train_mode=True)[brain_name]   # reset the environment\n",
    "        states = env_info.vector_observations               # get the current state (for each agent)\n",
    "        agent.reset()                                       # reset the agent\n",
    "\n",
    "        scores = np.zeros(num_agents)                       # initialize the score (for each agent)\n",
    "        score = 0                                           # initialize the score\n",
    "        \n",
    "        #for t in range(max_t):\n",
    "        while(True):\n",
    "            actions = agent.act(states)            # select an action (for each agent)\n",
    "            env_info = env.step(actions)[brain_name]        # send the actions to the environment\n",
    "\n",
    "            next_states = env_info.vector_observations      # get next state (for each agent)\n",
    "            rewards = env_info.rewards                      # get reward (for each agent)\n",
    "            dones = env_info.local_done                     # see if episode has finished\n",
    "            agent.step(states, actions, rewards, next_states, dones)      \n",
    "            \n",
    "            states = next_states                            # roll over the state to next time step\n",
    "            scores += rewards                               # update the score\n",
    "            if np.any(dones):                               # exit loop if episode finished\n",
    "                break \n",
    "\n",
    "        score = np.max(scores)\n",
    "        \n",
    "        scores_window.append(score)       # save most recent score\n",
    "        all_scores.append(score)              # save most recent score\n",
    "\n",
    "        print('\\rEpisode {}\\tAverage Score: {:.2f}'.format(i_episode, np.mean(scores_window)), end=\"\")\n",
    "        if i_episode % 100 == 0:\n",
    "            print('\\rEpisode {}\\tAverage Score: {:.2f}'.format(i_episode, np.mean(scores_window)))\n",
    "            \n",
    "        if np.mean(scores_window) > 0.5 and environment_solved == False:\n",
    "            print('\\nEnvironment solved in {:d} episodes!\\tAverage Score: {:.2f}'.format(i_episode-100, np.mean(scores_window)))\n",
    "            environment_solved = True\n",
    "            \n",
    "        if i_episode % 1000 == 0:\n",
    "            agent.save(\"./models/ddpg_\")\n",
    "            \n",
    "    return all_scores\n",
    "\n",
    "def printPlot(title, scores, movingAverage=100):\n",
    "    # plot the scores\n",
    "    fig = plt.figure(1, figsize=(12, 12))\n",
    "    \n",
    "    mvgAvg = []\n",
    "    scores_window = deque(maxlen=movingAverage)\n",
    "    for s1 in scores:\n",
    "        scores_window.append(s1)\n",
    "        mvgAvg.append(np.mean(scores_window))    \n",
    "    \n",
    "    ax1 = fig.add_subplot(1,1,1)\n",
    "    plt.plot(np.arange(len(scores)), scores, np.arange(len(scores)), mvgAvg)\n",
    "    plt.title(title)\n",
    "    plt.ylabel('Score')\n",
    "    plt.xlabel('Episode #')\n",
    "    \n",
    "    plt.show()    \n",
    "    \n",
    "def writeScoreToFile(filename, scores):\n",
    "    file = open(\"./models/\" + filename, \"w\") \n",
    " \n",
    "    for score in scores:\n",
    "        file.write(str(score) + \"\\n\")\n",
    "        \n",
    "    file.close()"
   ]
  },
  {
   "cell_type": "markdown",
   "metadata": {},
   "source": [
    "## 4. Run the DDGP algorithm"
   ]
  },
  {
   "cell_type": "code",
   "execution_count": 6,
   "metadata": {},
   "outputs": [],
   "source": [
    "LR_ACTOR = 1e-5\n",
    "LR_CRITIC = 1e-4\n",
    "WEIGHT_DECAY_CRITIC = 0.0\n",
    "REPLAY_BUFFER_SIZE = int(1e5)\n",
    "BATCH_SIZE = 128\n",
    "UPDATE_EVERY = 3\n",
    "GAMMA = 0.99\n",
    "TAU = 0.001\n",
    "SEED = 0\n",
    "MY_DEVICE = torch.device(\"cuda:0\" if torch.cuda.is_available() else \"cpu\")\n",
    "\n",
    "n_episodes = 5000    # n_episodes (int): maximum number of training episodes\n",
    "max_t = 1000"
   ]
  },
  {
   "cell_type": "code",
   "execution_count": 7,
   "metadata": {
    "scrolled": true
   },
   "outputs": [
    {
     "name": "stdout",
     "output_type": "stream",
     "text": [
      "cuda:0\n",
      "Episode 100\tAverage Score: 0.01\n",
      "Episode 200\tAverage Score: 0.01\n",
      "Episode 300\tAverage Score: 0.00\n",
      "Episode 400\tAverage Score: 0.02\n",
      "Episode 500\tAverage Score: 0.02\n",
      "Episode 600\tAverage Score: 0.01\n",
      "Episode 700\tAverage Score: 0.01\n",
      "Episode 800\tAverage Score: 0.00\n",
      "Episode 900\tAverage Score: 0.00\n",
      "Episode 1000\tAverage Score: 0.01\n",
      "Episode 1100\tAverage Score: 0.03\n",
      "Episode 1200\tAverage Score: 0.04\n",
      "Episode 1300\tAverage Score: 0.03\n",
      "Episode 1400\tAverage Score: 0.04\n",
      "Episode 1500\tAverage Score: 0.02\n",
      "Episode 1600\tAverage Score: 0.03\n",
      "Episode 1700\tAverage Score: 0.05\n",
      "Episode 1800\tAverage Score: 0.02\n",
      "Episode 1900\tAverage Score: 0.06\n",
      "Episode 2000\tAverage Score: 0.06\n",
      "Episode 2100\tAverage Score: 0.04\n",
      "Episode 2200\tAverage Score: 0.03\n",
      "Episode 2300\tAverage Score: 0.04\n",
      "Episode 2400\tAverage Score: 0.02\n",
      "Episode 2500\tAverage Score: 0.04\n",
      "Episode 2600\tAverage Score: 0.05\n",
      "Episode 2700\tAverage Score: 0.02\n",
      "Episode 2800\tAverage Score: 0.03\n",
      "Episode 2900\tAverage Score: 0.03\n",
      "Episode 3000\tAverage Score: 0.07\n",
      "Episode 3100\tAverage Score: 0.06\n",
      "Episode 3200\tAverage Score: 0.06\n",
      "Episode 3300\tAverage Score: 0.08\n",
      "Episode 3400\tAverage Score: 0.14\n",
      "Episode 3500\tAverage Score: 0.17\n",
      "Episode 3600\tAverage Score: 0.13\n",
      "Episode 3700\tAverage Score: 0.23\n",
      "Episode 3800\tAverage Score: 0.48\n",
      "Episode 3820\tAverage Score: 0.51\n",
      "Environment solved in 3720 episodes!\tAverage Score: 0.51\n",
      "Episode 3900\tAverage Score: 0.61\n",
      "Episode 4000\tAverage Score: 0.61\n",
      "Episode 4100\tAverage Score: 1.46\n",
      "Episode 4200\tAverage Score: 0.72\n",
      "Episode 4300\tAverage Score: 1.57\n",
      "Episode 4400\tAverage Score: 1.56\n",
      "Episode 4500\tAverage Score: 0.98\n",
      "Episode 4600\tAverage Score: 1.69\n",
      "Episode 4700\tAverage Score: 1.68\n",
      "Episode 4800\tAverage Score: 1.48\n",
      "Episode 4900\tAverage Score: 0.69\n",
      "Episode 5000\tAverage Score: 1.39\n"
     ]
    }
   ],
   "source": [
    "agent = Agent.for_training(\n",
    "            number_of_agents=num_agents,\n",
    "            state_size=numberOfStates, \n",
    "            action_size=numberOfActions,\n",
    "              \n",
    "            lr_actor=LR_ACTOR,\n",
    "            lr_critic=LR_CRITIC,\n",
    "            weight_decay_critic=WEIGHT_DECAY_CRITIC,\n",
    "              \n",
    "            replay_buffer_size=REPLAY_BUFFER_SIZE,\n",
    "            batch_size=BATCH_SIZE,\n",
    "            update_every=UPDATE_EVERY,\n",
    "            gamma=GAMMA,\n",
    "            tau=TAU,\n",
    "              \n",
    "            seed=SEED,\n",
    "            device=MY_DEVICE)\n",
    "\n",
    "scores_ddpg = ddpg(agent, n_episodes, max_t)\n",
    "agent.save(\"./models/ddpg_\")"
   ]
  },
  {
   "cell_type": "code",
   "execution_count": 8,
   "metadata": {},
   "outputs": [
    {
     "data": {
      "image/png": "[encoded data removed]",
      "text/plain": [
       "<matplotlib.figure.Figure at 0x7fb9d3fdef98>"
      ]
     },
     "metadata": {},
     "output_type": "display_data"
    }
   ],
   "source": [
    "# plot the scores\n",
    "printPlot(\"DDPG\", scores_ddpg, 100)\n",
    "writeScoreToFile(\"ddpg_scores.txt\", scores_ddpg)"
   ]
  },
  {
   "cell_type": "code",
   "execution_count": 9,
   "metadata": {},
   "outputs": [],
   "source": [
    "env.close()"
   ]
  },
  {
   "cell_type": "code",
   "execution_count": null,
   "metadata": {},
   "outputs": [],
   "source": []
  }
 ],
 "metadata": {
  "kernelspec": {
   "display_name": "Python 3",
   "language": "python",
   "name": "python3"
  },
  "language_info": {
   "codemirror_mode": {
    "name": "ipython",
    "version": 3
   },
   "file_extension": ".py",
   "mimetype": "text/x-python",
   "name": "python",
   "nbconvert_exporter": "python",
   "pygments_lexer": "ipython3",
   "version": "3.6.6"
  }
 },
 "nbformat": 4,
 "nbformat_minor": 2
}
