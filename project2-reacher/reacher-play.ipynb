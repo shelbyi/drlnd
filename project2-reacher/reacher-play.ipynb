{
 "cells": [
  {
   "cell_type": "markdown",
   "metadata": {},
   "source": [
    "# Project 2: Reacher\n",
    "\n",
    "---\n",
    "\n",
    "In this notebook, I am going to run a model that was pretrained with the [reacher](reacher.ipynb) notebook.\n",
    "\n",
    "## 1. Start the Environment\n",
    "\n",
    "We begin by importing some necessary packages."
   ]
  },
  {
   "cell_type": "code",
   "execution_count": 1,
   "metadata": {},
   "outputs": [],
   "source": [
    "from unityagents import UnityEnvironment\n",
    "from modules.ddpg_agent import Agent"
   ]
  },
  {
   "cell_type": "code",
   "execution_count": 2,
   "metadata": {},
   "outputs": [
    {
     "name": "stderr",
     "output_type": "stream",
     "text": [
      "INFO:unityagents:\n",
      "'Academy' started successfully!\n",
      "Unity Academy name: Academy\n",
      "        Number of Brains: 1\n",
      "        Number of External Brains : 1\n",
      "        Lesson number : 0\n",
      "        Reset Parameters :\n",
      "\t\tgoal_size -> 5.0\n",
      "\t\tgoal_speed -> 1.0\n",
      "Unity brain name: ReacherBrain\n",
      "        Number of Visual Observations (per agent): 0\n",
      "        Vector Observation space type: continuous\n",
      "        Vector Observation space size (per agent): 33\n",
      "        Number of stacked Vector Observation: 1\n",
      "        Vector Action space type: continuous\n",
      "        Vector Action space size (per agent): 4\n",
      "        Vector Action descriptions: , , , \n"
     ]
    }
   ],
   "source": [
    "env = UnityEnvironment(file_name=\"./Reacher_Linux/Reacher.x86_64\")"
   ]
  },
  {
   "cell_type": "markdown",
   "metadata": {},
   "source": [
    "We retrieve some information like number of actions and states from the environment."
   ]
  },
  {
   "cell_type": "code",
   "execution_count": 3,
   "metadata": {},
   "outputs": [],
   "source": [
    "brain_name = env.brain_names[0]\n",
    "brain = env.brains[brain_name]\n",
    "\n",
    "env_info = env.reset(train_mode=True)[brain_name]\n",
    "state = env_info.vector_observations[0]\n",
    "\n",
    "numberOfActions = brain.vector_action_space_size\n",
    "numberOfStates = len(state)"
   ]
  },
  {
   "cell_type": "markdown",
   "metadata": {},
   "source": [
    "## 2. Define the main ddpg function and start some episodes"
   ]
  },
  {
   "cell_type": "code",
   "execution_count": 4,
   "metadata": {},
   "outputs": [],
   "source": [
    "def ddpg_play(agent, n_episodes, max_t):\n",
    "    print(\"###############################\")\n",
    "    print(\"Running \" + str(n_episodes) + \" episodes now: \")\n",
    "\n",
    "    eps = 0.0\n",
    "    for i_episode in range(1, n_episodes+1):\n",
    "        print(\"-------------------------------\")\n",
    "        print(\"Episode \" + str(i_episode))\n",
    "        env_info = env.reset(train_mode=False)[brain_name]  # reset the environment\n",
    "        score = 0 \n",
    "        \n",
    "        for t in range(max_t):\n",
    "            state = env_info.vector_observations[0]        # get the current state\n",
    "            action = agent.act(state, eps)                 # select an action\n",
    "            env_info = env.step(action)[brain_name]        # send the action to the environment\n",
    "            reward = env_info.rewards[0]                   # get the reward\n",
    "            score += reward\n",
    "            #rint('\\rEpisode {}\\tAverage Score: {:.2f}'.format(i_episode, np.mean(scores_window)), end=\"\")\n",
    "            print(\"\\rScore: \" + str(score), end=\"\")\n",
    "            \n",
    "            done = env_info.local_done[0]                  # see if episode has finished\n",
    "            if done:                                       # exit loop if episode finished\n",
    "                break\n",
    "        print(\"\\nFinal score: \" + str(i_episode) + \": \" + str(score))\n",
    "        print()"
   ]
  },
  {
   "cell_type": "code",
   "execution_count": null,
   "metadata": {},
   "outputs": [
    {
     "name": "stdout",
     "output_type": "stream",
     "text": [
      "cuda:0\n",
      "###############################\n",
      "Running 5 episodes now: \n",
      "-------------------------------\n",
      "Episode 1\n",
      "Score: 1.039999976754188532\n",
      "Final score: 1: 1.0399999767541885\n",
      "\n",
      "-------------------------------\n",
      "Episode 2\n",
      "Score: 0.499999988824129142"
     ]
    }
   ],
   "source": [
    "agent_play = Agent.for_playing(numberOfStates, numberOfActions, \"./models/ddpg_\")\n",
    "ddpg_play(agent_play, 2, 1000)"
   ]
  },
  {
   "cell_type": "code",
   "execution_count": null,
   "metadata": {},
   "outputs": [],
   "source": [
    "env.close()"
   ]
  }
 ],
 "metadata": {
  "kernelspec": {
   "display_name": "drlnd",
   "language": "python",
   "name": "drlnd"
  },
  "language_info": {
   "codemirror_mode": {
    "name": "ipython",
    "version": 3
   },
   "file_extension": ".py",
   "mimetype": "text/x-python",
   "name": "python",
   "nbconvert_exporter": "python",
   "pygments_lexer": "ipython3",
   "version": "3.6.6"
  }
 },
 "nbformat": 4,
 "nbformat_minor": 2
}
